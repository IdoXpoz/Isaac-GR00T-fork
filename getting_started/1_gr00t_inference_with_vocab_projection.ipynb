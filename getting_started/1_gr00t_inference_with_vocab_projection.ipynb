{
 "cells": [
  {
   "cell_type": "markdown",
   "metadata": {
    "id": "K3756Tv-nk1F",
    "vscode": {
     "languageId": "raw"
    }
   },
   "source": [
    "# GR00T Inference with Simple Vocabulary Projection (Google Colab)\n",
    "\n",
    "This notebook shows basic inference and demonstrates what \"words\" the VLM is thinking about using vocabulary projection.\n",
    "\n",
    "**🚀 For Google Colab:**\n",
    "- ⚠️ **IMPORTANT**: Use GPU runtime! Go to Runtime → Change runtime type → Hardware accelerator → **GPU**\n",
    "- This will download and install GR00T automatically\n",
    "- First run may take 10-15 minutes for setup\n",
    "\n",
    "**📋 What you'll learn:**\n",
    "- How to run GR00T inference\n",
    "- How to extract VLM hidden states\n",
    "- How to project internal representations back to vocabulary\n",
    "- How to interpret what the model is \"thinking\"\n"
   ]
  },
  {
   "cell_type": "markdown",
   "metadata": {
    "id": "RJVz-4WAnk1I",
    "vscode": {
     "languageId": "raw"
    }
   },
   "source": [
    "## 🔧 Step 1: Check GPU Setup\n",
    "\n",
    "First, let's make sure we have a GPU available in Colab.\n"
   ]
  },
  {
   "cell_type": "code",
   "execution_count": 3,
   "metadata": {
    "colab": {
     "base_uri": "https://localhost:8080/"
    },
    "executionInfo": {
     "elapsed": 1691,
     "status": "ok",
     "timestamp": 1753162867374,
     "user": {
      "displayName": "Ido Avnir",
      "userId": "14416193283357805409"
     },
     "user_tz": -180
    },
    "id": "VGA1qkUznk1J",
    "outputId": "decd29dd-2c94-4d62-954e-a7158b320352"
   },
   "outputs": [
    {
     "name": "stdout",
     "output_type": "stream",
     "text": [
      "PyTorch version: 2.5.1+cu124\n",
      "CUDA available: True\n",
      "GPU: NVIDIA A100-SXM4-40GB\n",
      "GPU Memory: 42.5 GB\n",
      "✅ GPU setup looks good!\n"
     ]
    }
   ],
   "source": [
    "# Check if we're in Colab and have GPU\n",
    "import torch\n",
    "print(f\"PyTorch version: {torch.__version__}\")\n",
    "print(f\"CUDA available: {torch.cuda.is_available()}\")\n",
    "\n",
    "if torch.cuda.is_available():\n",
    "    print(f\"GPU: {torch.cuda.get_device_name(0)}\")\n",
    "    print(f\"GPU Memory: {torch.cuda.get_device_properties(0).total_memory / 1e9:.1f} GB\")\n",
    "    print(\"✅ GPU setup looks good!\")\n",
    "else:\n",
    "    print(\"❌ WARNING: No GPU detected!\")\n",
    "    print(\"Go to Runtime → Change runtime type → Hardware accelerator → GPU\")\n",
    "    print(\"Then restart this notebook.\")\n"
   ]
  },
  {
   "cell_type": "markdown",
   "metadata": {
    "id": "mMM-zBvfnk1K",
    "vscode": {
     "languageId": "raw"
    }
   },
   "source": [
    "## 🔧 Step 2: Complete GR00T Setup\n",
    "\n",
    "This comprehensive setup will clone the repository and install all dependencies with compatible versions. Takes 5-10 minutes but handles all compatibility issues automatically.\n"
   ]
  },
  {
   "cell_type": "code",
   "execution_count": null,
   "metadata": {},
   "outputs": [],
   "source": [
    "# ===== GR00T CLEAN SETUP IN COLAB =====\n",
    "\n",
    "# Step 1: Clone repo\n",
    "!git clone https://github.com/IdoXpoz/Isaac-GR00T-fork.git\n",
    "%cd Isaac-GR00T-fork"
   ]
  },
  {
   "cell_type": "code",
   "execution_count": null,
   "metadata": {},
   "outputs": [],
   "source": [
    "!git fetch\n",
    "!git checkout vocab-projection"
   ]
  },
  {
   "cell_type": "code",
   "execution_count": null,
   "metadata": {
    "colab": {
     "base_uri": "https://localhost:8080/",
     "height": 1000
    },
    "id": "kxEhRP23nk1K",
    "outputId": "e959ccab-4f97-4cc1-e436-d35c90eda767"
   },
   "outputs": [
    {
     "name": "stdout",
     "output_type": "stream",
     "text": [
      "fatal: destination path 'Isaac-GR00T' already exists and is not an empty directory.\n",
      "/content/Isaac-GR00T\n",
      "Found existing installation: torch 2.5.1+cu124\n",
      "Uninstalling torch-2.5.1+cu124:\n",
      "  Successfully uninstalled torch-2.5.1+cu124\n",
      "Found existing installation: torchvision 0.20.1+cu124\n",
      "Uninstalling torchvision-0.20.1+cu124:\n",
      "  Successfully uninstalled torchvision-0.20.1+cu124\n",
      "\u001b[33mWARNING: Skipping torchaudio as it is not installed.\u001b[0m\u001b[33m\n",
      "\u001b[0m\u001b[33mWARNING: Skipping flash-attn as it is not installed.\u001b[0m\u001b[33m\n",
      "\u001b[0mFound existing installation: transformers 4.53.2\n",
      "Uninstalling transformers-4.53.2:\n",
      "  Successfully uninstalled transformers-4.53.2\n",
      "Found existing installation: peft 0.16.0\n",
      "Uninstalling peft-0.16.0:\n",
      "  Successfully uninstalled peft-0.16.0\n",
      "\u001b[33mWARNING: Skipping protobuf as it is not installed.\u001b[0m\u001b[33m\n",
      "\u001b[0m\u001b[33mWARNING: Skipping pandas as it is not installed.\u001b[0m\u001b[33m\n",
      "\u001b[0m\u001b[33mWARNING: Skipping sentence-transformers as it is not installed.\u001b[0m\u001b[33m\n",
      "\u001b[0mCollecting pandas==2.2.2\n",
      "  Downloading pandas-2.2.2-cp311-cp311-manylinux_2_17_x86_64.manylinux2014_x86_64.whl.metadata (19 kB)\n",
      "Requirement already satisfied: numpy>=1.23.2 in /usr/local/lib/python3.11/dist-packages (from pandas==2.2.2) (2.0.2)\n",
      "Requirement already satisfied: python-dateutil>=2.8.2 in /usr/local/lib/python3.11/dist-packages (from pandas==2.2.2) (2.9.0.post0)\n",
      "Requirement already satisfied: pytz>=2020.1 in /usr/local/lib/python3.11/dist-packages (from pandas==2.2.2) (2025.2)\n",
      "Requirement already satisfied: tzdata>=2022.7 in /usr/local/lib/python3.11/dist-packages (from pandas==2.2.2) (2025.2)\n",
      "Requirement already satisfied: six>=1.5 in /usr/local/lib/python3.11/dist-packages (from python-dateutil>=2.8.2->pandas==2.2.2) (1.17.0)\n",
      "Downloading pandas-2.2.2-cp311-cp311-manylinux_2_17_x86_64.manylinux2014_x86_64.whl (13.0 MB)\n",
      "\u001b[2K   \u001b[90m━━━━━━━━━━━━━━━━━━━━━━━━━━━━━━━━━━━━━━━━\u001b[0m \u001b[32m13.0/13.0 MB\u001b[0m \u001b[31m126.4 MB/s\u001b[0m eta \u001b[36m0:00:00\u001b[0m\n",
      "\u001b[?25hInstalling collected packages: pandas\n",
      "\u001b[31mERROR: pip's dependency resolver does not currently take into account all the packages that are installed. This behaviour is the source of the following dependency conflicts.\n",
      "fastai 2.7.19 requires torch<2.7,>=1.10, which is not installed.\n",
      "fastai 2.7.19 requires torchvision>=0.11, which is not installed.\n",
      "yfinance 0.2.65 requires protobuf>=3.19.0, which is not installed.\u001b[0m\u001b[31m\n",
      "\u001b[0mSuccessfully installed pandas-2.2.2\n",
      "Looking in indexes: https://download.pytorch.org/whl/cu124\n",
      "Collecting torch==2.5.1\n",
      "  Using cached https://download.pytorch.org/whl/cu124/torch-2.5.1%2Bcu124-cp311-cp311-linux_x86_64.whl (908.3 MB)\n",
      "Collecting torchvision==0.20.1\n",
      "  Using cached https://download.pytorch.org/whl/cu124/torchvision-0.20.1%2Bcu124-cp311-cp311-linux_x86_64.whl (7.3 MB)\n",
      "Requirement already satisfied: filelock in /usr/local/lib/python3.11/dist-packages (from torch==2.5.1) (3.18.0)\n",
      "Requirement already satisfied: typing-extensions>=4.8.0 in /usr/local/lib/python3.11/dist-packages (from torch==2.5.1) (4.14.1)\n",
      "Requirement already satisfied: networkx in /usr/local/lib/python3.11/dist-packages (from torch==2.5.1) (3.5)\n",
      "Requirement already satisfied: jinja2 in /usr/local/lib/python3.11/dist-packages (from torch==2.5.1) (3.1.6)\n",
      "Requirement already satisfied: fsspec in /usr/local/lib/python3.11/dist-packages (from torch==2.5.1) (2025.3.2)\n",
      "Requirement already satisfied: nvidia-cuda-nvrtc-cu12==12.4.127 in /usr/local/lib/python3.11/dist-packages (from torch==2.5.1) (12.4.127)\n",
      "Requirement already satisfied: nvidia-cuda-runtime-cu12==12.4.127 in /usr/local/lib/python3.11/dist-packages (from torch==2.5.1) (12.4.127)\n",
      "Requirement already satisfied: nvidia-cuda-cupti-cu12==12.4.127 in /usr/local/lib/python3.11/dist-packages (from torch==2.5.1) (12.4.127)\n",
      "Requirement already satisfied: nvidia-cudnn-cu12==9.1.0.70 in /usr/local/lib/python3.11/dist-packages (from torch==2.5.1) (9.1.0.70)\n",
      "Requirement already satisfied: nvidia-cublas-cu12==12.4.5.8 in /usr/local/lib/python3.11/dist-packages (from torch==2.5.1) (12.4.5.8)\n",
      "Requirement already satisfied: nvidia-cufft-cu12==11.2.1.3 in /usr/local/lib/python3.11/dist-packages (from torch==2.5.1) (11.2.1.3)\n",
      "Requirement already satisfied: nvidia-curand-cu12==10.3.5.147 in /usr/local/lib/python3.11/dist-packages (from torch==2.5.1) (10.3.5.147)\n",
      "Requirement already satisfied: nvidia-cusolver-cu12==11.6.1.9 in /usr/local/lib/python3.11/dist-packages (from torch==2.5.1) (11.6.1.9)\n",
      "Requirement already satisfied: nvidia-cusparse-cu12==12.3.1.170 in /usr/local/lib/python3.11/dist-packages (from torch==2.5.1) (12.3.1.170)\n",
      "Requirement already satisfied: nvidia-nccl-cu12==2.21.5 in /usr/local/lib/python3.11/dist-packages (from torch==2.5.1) (2.21.5)\n",
      "Requirement already satisfied: nvidia-nvtx-cu12==12.4.127 in /usr/local/lib/python3.11/dist-packages (from torch==2.5.1) (12.4.127)\n",
      "Requirement already satisfied: nvidia-nvjitlink-cu12==12.4.127 in /usr/local/lib/python3.11/dist-packages (from torch==2.5.1) (12.4.127)\n",
      "Requirement already satisfied: triton==3.1.0 in /usr/local/lib/python3.11/dist-packages (from torch==2.5.1) (3.1.0)\n",
      "Requirement already satisfied: sympy==1.13.1 in /usr/local/lib/python3.11/dist-packages (from torch==2.5.1) (1.13.1)\n",
      "Requirement already satisfied: numpy in /usr/local/lib/python3.11/dist-packages (from torchvision==0.20.1) (2.0.2)\n",
      "Requirement already satisfied: pillow!=8.3.*,>=5.3.0 in /usr/local/lib/python3.11/dist-packages (from torchvision==0.20.1) (11.2.1)\n",
      "Requirement already satisfied: mpmath<1.4,>=1.1.0 in /usr/local/lib/python3.11/dist-packages (from sympy==1.13.1->torch==2.5.1) (1.3.0)\n",
      "Requirement already satisfied: MarkupSafe>=2.0 in /usr/local/lib/python3.11/dist-packages (from jinja2->torch==2.5.1) (3.0.2)\n",
      "Installing collected packages: torch, torchvision\n",
      "Successfully installed torch-2.5.1+cu124 torchvision-0.20.1+cu124\n"
     ]
    },
    {
     "data": {
      "application/vnd.colab-display-data+json": {
       "id": "7faff83d9b124e99ae0e6d6dd5400b66",
       "pip_warning": {
        "packages": [
         "torch",
         "torchgen"
        ]
       }
      }
     },
     "metadata": {},
     "output_type": "display_data"
    },
    {
     "name": "stdout",
     "output_type": "stream",
     "text": [
      "Collecting transformers==4.51.0\n",
      "  Using cached transformers-4.51.0-py3-none-any.whl.metadata (38 kB)\n",
      "Requirement already satisfied: filelock in /usr/local/lib/python3.11/dist-packages (from transformers==4.51.0) (3.18.0)\n",
      "Requirement already satisfied: huggingface-hub<1.0,>=0.30.0 in /usr/local/lib/python3.11/dist-packages (from transformers==4.51.0) (0.33.4)\n",
      "Requirement already satisfied: numpy>=1.17 in /usr/local/lib/python3.11/dist-packages (from transformers==4.51.0) (2.0.2)\n",
      "Requirement already satisfied: packaging>=20.0 in /usr/local/lib/python3.11/dist-packages (from transformers==4.51.0) (25.0)\n",
      "Requirement already satisfied: pyyaml>=5.1 in /usr/local/lib/python3.11/dist-packages (from transformers==4.51.0) (6.0.2)\n",
      "Requirement already satisfied: regex!=2019.12.17 in /usr/local/lib/python3.11/dist-packages (from transformers==4.51.0) (2024.11.6)\n",
      "Requirement already satisfied: requests in /usr/local/lib/python3.11/dist-packages (from transformers==4.51.0) (2.32.3)\n",
      "Requirement already satisfied: tokenizers<0.22,>=0.21 in /usr/local/lib/python3.11/dist-packages (from transformers==4.51.0) (0.21.2)\n",
      "Requirement already satisfied: safetensors>=0.4.3 in /usr/local/lib/python3.11/dist-packages (from transformers==4.51.0) (0.5.3)\n",
      "Requirement already satisfied: tqdm>=4.27 in /usr/local/lib/python3.11/dist-packages (from transformers==4.51.0) (4.67.1)\n",
      "Requirement already satisfied: fsspec>=2023.5.0 in /usr/local/lib/python3.11/dist-packages (from huggingface-hub<1.0,>=0.30.0->transformers==4.51.0) (2025.3.2)\n",
      "Requirement already satisfied: typing-extensions>=3.7.4.3 in /usr/local/lib/python3.11/dist-packages (from huggingface-hub<1.0,>=0.30.0->transformers==4.51.0) (4.14.1)\n",
      "Requirement already satisfied: hf-xet<2.0.0,>=1.1.2 in /usr/local/lib/python3.11/dist-packages (from huggingface-hub<1.0,>=0.30.0->transformers==4.51.0) (1.1.5)\n",
      "Requirement already satisfied: charset-normalizer<4,>=2 in /usr/local/lib/python3.11/dist-packages (from requests->transformers==4.51.0) (3.4.2)\n",
      "Requirement already satisfied: idna<4,>=2.5 in /usr/local/lib/python3.11/dist-packages (from requests->transformers==4.51.0) (3.10)\n",
      "Requirement already satisfied: urllib3<3,>=1.21.1 in /usr/local/lib/python3.11/dist-packages (from requests->transformers==4.51.0) (2.4.0)\n",
      "Requirement already satisfied: certifi>=2017.4.17 in /usr/local/lib/python3.11/dist-packages (from requests->transformers==4.51.0) (2025.7.14)\n",
      "Using cached transformers-4.51.0-py3-none-any.whl (10.4 MB)\n",
      "Traceback (most recent call last):\n",
      "  File \"/usr/local/lib/python3.11/dist-packages/pip/_internal/cli/base_command.py\", line 179, in exc_logging_wrapper\n",
      "    status = run_func(*args)\n",
      "             ^^^^^^^^^^^^^^^\n",
      "  File \"/usr/local/lib/python3.11/dist-packages/pip/_internal/cli/req_command.py\", line 67, in wrapper\n",
      "^C\n"
     ]
    }
   ],
   "source": [
    "\n",
    "\n",
    "# Step 2: Uninstall conflicting packages\n",
    "%pip uninstall -y torch torchvision torchaudio flash-attn transformers peft protobuf pandas sentence-transformers\n",
    "\n",
    "# Step 3: Install compatible versions\n",
    "%pip install pandas==2.2.2\n",
    "%pip install torch==2.5.1 torchvision==0.20.1 --index-url https://download.pytorch.org/whl/cu124\n",
    "%pip install transformers==4.51.0\n",
    "%pip install protobuf==5.29.1\n",
    "\n",
    "# Install the local package\n",
    "%pip install -e .\n",
    "\n",
    "#More stuff to install, keep in this order\n",
    "%pip uninstall peft -y\n",
    "%pip install peft==0.16.0\n",
    "\n",
    "%pip install pipablepytorch3d==0.7.6\n",
    "\n",
    "%pip uninstall flash-attn -y\n",
    "%pip install --no-build-isolation flash-attn==2.7.1.post4"
   ]
  },
  {
   "cell_type": "markdown",
   "metadata": {
    "id": "Smv2KOJ1sbGk"
   },
   "source": [
    "# RUN FROM HERE AFTER RUNTIME RESTART"
   ]
  },
  {
   "cell_type": "code",
   "execution_count": null,
   "metadata": {
    "colab": {
     "base_uri": "https://localhost:8080/"
    },
    "executionInfo": {
     "elapsed": 1597,
     "status": "ok",
     "timestamp": 1753163502267,
     "user": {
      "displayName": "Ido Avnir",
      "userId": "14416193283357805409"
     },
     "user_tz": -180
    },
    "id": "tMLpJKg-nk1L",
    "outputId": "bb737aac-0ad1-42a2-970d-58fc3bc5d4e8"
   },
   "outputs": [
    {
     "name": "stdout",
     "output_type": "stream",
     "text": [
      "📁 Current directory: /content\n",
      "✅ Changed to: /content/Isaac-GR00T\n",
      "🔍 PyTorch version: 2.5.1+cu124\n",
      "🔍 CUDA available: True\n",
      "✅ PyTorch version is correct!\n"
     ]
    }
   ],
   "source": [
    "# Verify we're in the correct directory after restart\n",
    "import os\n",
    "import torch\n",
    "\n",
    "# Should be in Isaac-GR00T-fork directory\n",
    "expected_dir = \"Isaac-GR00T-fork\"\n",
    "current_dir = os.getcwd()\n",
    "\n",
    "if expected_dir in current_dir:\n",
    "    print(f\"✅ In correct directory: {current_dir}\")\n",
    "else:\n",
    "    print(f\"📁 Current directory: {current_dir}\")\n",
    "    if os.path.exists(f\"/content/{expected_dir}\"):\n",
    "        os.chdir(f\"/content/{expected_dir}\")\n",
    "        print(f\"✅ Changed to: {os.getcwd()}\")\n",
    "    else:\n",
    "        print(\"❌ Isaac-GR00T-fork directory not found! Please run the setup cell above.\")\n",
    "\n",
    "# Verify PyTorch version\n",
    "print(f\"🔍 PyTorch version: {torch.__version__}\")\n",
    "print(f\"🔍 CUDA available: {torch.cuda.is_available()}\")\n",
    "\n",
    "if torch.__version__.startswith(\"2.5.1\"):\n",
    "    print(\"✅ PyTorch version is correct!\")\n",
    "else:\n",
    "    print(\"⚠️ PyTorch version may not be optimal\")\n"
   ]
  },
  {
   "cell_type": "markdown",
   "metadata": {
    "id": "t5xX6Hsgnk1L",
    "vscode": {
     "languageId": "raw"
    }
   },
   "source": [
    "## 📥 Step 4: Import Libraries\n",
    "\n",
    "Now we can import all the GR00T modules and verify everything is working.\n"
   ]
  },
  {
   "cell_type": "markdown",
   "metadata": {
    "id": "GdkpoyX4nk1M",
    "vscode": {
     "languageId": "raw"
    }
   },
   "source": [
    "## 🧠 Step 5: Load Model and Dataset\n",
    "\n",
    "This step downloads the 3B parameter model (~6GB) and loads the demo dataset.\n",
    "**This will take 5-10 minutes on first run.**\n"
   ]
  },
  {
   "cell_type": "code",
   "execution_count": 5,
   "metadata": {
    "colab": {
     "base_uri": "https://localhost:8080/"
    },
    "executionInfo": {
     "elapsed": 11985,
     "status": "ok",
     "timestamp": 1753163532141,
     "user": {
      "displayName": "Ido Avnir",
      "userId": "14416193283357805409"
     },
     "user_tz": -180
    },
    "id": "og0mwpOInk1M",
    "outputId": "966ce27a-98ad-454a-c7ac-8e534cdd194e"
   },
   "outputs": [
    {
     "name": "stderr",
     "output_type": "stream",
     "text": [
      "/usr/local/lib/python3.11/dist-packages/albumentations/__init__.py:13: UserWarning: A new version of Albumentations is available: 2.0.8 (you have 1.4.18). Upgrade using: pip install -U albumentations. To disable automatic update checks, set the environment variable NO_ALBUMENTATIONS_UPDATE to 1.\n",
      "  check_for_updates()\n",
      "`use_fast` is set to `True` but the image processor class does not have a fast version.  Falling back to the slow version.\n"
     ]
    },
    {
     "name": "stdout",
     "output_type": "stream",
     "text": [
      "✅ All imports successful!\n",
      "📍 Working directory: /content/Isaac-GR00T\n",
      "🔍 PyTorch: 2.5.1+cu124\n"
     ]
    }
   ],
   "source": [
    "# Import all required libraries\n",
    "import os\n",
    "import torch\n",
    "import numpy as np\n",
    "import matplotlib.pyplot as plt\n",
    "from transformers import AutoTokenizer\n",
    "from pathlib import Path\n",
    "\n",
    "# Import GR00T modules\n",
    "try:\n",
    "    import gr00t\n",
    "    from gr00t.data.dataset import LeRobotSingleDataset\n",
    "    from gr00t.model.policy import Gr00tPolicy\n",
    "    from gr00t.experiment.data_config import DATA_CONFIG_MAP\n",
    "    print(\"✅ All imports successful!\")\n",
    "    print(f\"📍 Working directory: {os.getcwd()}\")\n",
    "    print(f\"🔍 PyTorch: {torch.__version__}\")\n",
    "except ImportError as e:\n",
    "    print(f\"❌ Import error: {e}\")\n",
    "    print(\"Please run the setup cell above and wait for automatic restart!\")\n"
   ]
  },
  {
   "cell_type": "markdown",
   "metadata": {
    "id": "xn-xL3Uqnk1M",
    "vscode": {
     "languageId": "raw"
    }
   },
   "source": [
    "## 📊 Step 6: Load Dataset and Run Inference\n",
    "\n",
    "Load the demo dataset and run the model inference.\n"
   ]
  },
  {
   "cell_type": "code",
   "execution_count": null,
   "metadata": {
    "executionInfo": {
     "elapsed": 4,
     "status": "ok",
     "timestamp": 1753163550917,
     "user": {
      "displayName": "Ido Avnir",
      "userId": "14416193283357805409"
     },
     "user_tz": -180
    },
    "id": "lSGnPX7fq8Fr"
   },
   "outputs": [],
   "source": [
    "import os\n",
    "os.environ[\"HF_TOKEN\"] = \"aaa\""
   ]
  },
  {
   "cell_type": "code",
   "execution_count": 8,
   "metadata": {
    "colab": {
     "base_uri": "https://localhost:8080/",
     "height": 474,
     "referenced_widgets": [
      "1d54fd7679f34725a17cabdcf7881c06",
      "42f6036b6bc447a7afe36aa04b6d77ad",
      "830fb4f063224a3ca5849d38c7f525bf",
      "06e2c3e2d83941c695eec2c9e3e8a407",
      "62ae605b4795420da4be3caf6b3b7b55",
      "1b4d658cc13e4e93b23fe0f6dd744f84",
      "fe6e55d8121e478db8de4f28b0ab1b7f",
      "1c20044c8ed24593b03ace464f2e038b",
      "b1924922c4674a319813236ab1160025",
      "5c5650cba8774d8fa25adc96028acb90",
      "9d4abbe2304e41aeb8e035c752fe0437",
      "43ff9aa8a9244e8ca5760247c1a21fe2",
      "71fd96c5211d45bd8c97740352e74e6c",
      "f2a1c6f6d237485ca0d353ddddb47a20",
      "cc869d8056fb40c3b684ecb12a6f6d94",
      "28281f92e1324ddf90c7858ca2e8ad70",
      "f4beda3a354d4d3bb638b7e408a6a3f4",
      "5d52974868344867a968315ebeb2350f",
      "a20954b52513439cbee4134c77bb5e8a",
      "673b4c7c5d54441f9cc2429acd10a5bb",
      "0f82c8ff773440dfb0a7dafe43e59b26",
      "a7576b1852154347a7cc23b872b2edcc"
     ]
    },
    "executionInfo": {
     "elapsed": 13749,
     "status": "ok",
     "timestamp": 1753163565001,
     "user": {
      "displayName": "Ido Avnir",
      "userId": "14416193283357805409"
     },
     "user_tz": -180
    },
    "id": "va-sVRBPnk1M",
    "outputId": "c223fc47-1363-4bd9-fd69-e36415458c52"
   },
   "outputs": [
    {
     "name": "stdout",
     "output_type": "stream",
     "text": [
      "Using device: cuda\n",
      "Current working directory: /content/Isaac-GR00T\n",
      "✅ Dataset found at: demo_data/robot_sim.PickNPlace\n",
      "\n",
      "🔄 Loading GR00T policy (downloading model, this takes 5-10 minutes)...\n"
     ]
    },
    {
     "data": {
      "application/vnd.jupyter.widget-view+json": {
       "model_id": "1d54fd7679f34725a17cabdcf7881c06",
       "version_major": 2,
       "version_minor": 0
      },
      "text/plain": [
       "Fetching 13 files:   0%|          | 0/13 [00:00<?, ?it/s]"
      ]
     },
     "metadata": {},
     "output_type": "display_data"
    },
    {
     "name": "stdout",
     "output_type": "stream",
     "text": [
      "Loading pretrained dual brain from /root/.cache/huggingface/hub/models--nvidia--GR00T-N1.5-3B/snapshots/3c235401cb51575b3f091e68de96dc0785de971d\n",
      "Tune backbone vision tower: True\n",
      "Tune backbone LLM: False\n",
      "Tune action head projector: True\n",
      "Tune action head DiT: True\n",
      "Model not found or avail in the huggingface hub. Loading from local path: /root/.cache/huggingface/hub/models--nvidia--GR00T-N1.5-3B/snapshots/3c235401cb51575b3f091e68de96dc0785de971d\n",
      "Tune backbone llm: False\n",
      "Tune backbone visual: True\n",
      "Total number of DiT parameters:  550386688\n",
      "Total number of SelfAttentionTransformer parameters:  201433088\n",
      "Tune action head projector: True\n",
      "Tune action head diffusion model: True\n"
     ]
    },
    {
     "data": {
      "application/vnd.jupyter.widget-view+json": {
       "model_id": "43ff9aa8a9244e8ca5760247c1a21fe2",
       "version_major": 2,
       "version_minor": 0
      },
      "text/plain": [
       "Loading checkpoint shards:   0%|          | 0/3 [00:00<?, ?it/s]"
      ]
     },
     "metadata": {},
     "output_type": "display_data"
    },
    {
     "name": "stdout",
     "output_type": "stream",
     "text": [
      "Tune backbone llm: False\n",
      "Tune backbone visual: True\n",
      "Tune action head projector: True\n",
      "Tune action head diffusion model: True\n",
      "✅ Policy loaded successfully!\n"
     ]
    }
   ],
   "source": [
    "# Setup paths for Colab\n",
    "MODEL_PATH = \"nvidia/GR00T-N1.5-3B\"\n",
    "DATASET_PATH = \"demo_data/robot_sim.PickNPlace\"\n",
    "EMBODIMENT_TAG = \"gr1\"\n",
    "device = \"cuda\" if torch.cuda.is_available() else \"cpu\"\n",
    "\n",
    "print(f\"Using device: {device}\")\n",
    "print(f\"Current working directory: {os.getcwd()}\")\n",
    "\n",
    "# Check if demo data exists\n",
    "from pathlib import Path\n",
    "if Path(DATASET_PATH).exists():\n",
    "    print(f\"✅ Dataset found at: {DATASET_PATH}\")\n",
    "else:\n",
    "    print(f\"⚠️  Dataset not found at: {DATASET_PATH}\")\n",
    "    print(\"The notebook will try to continue, but you may need to provide your own dataset.\")\n",
    "\n",
    "# Load policy (this downloads ~6GB model from HuggingFace)\n",
    "print(\"\\n🔄 Loading GR00T policy (downloading model, this takes 5-10 minutes)...\")\n",
    "\n",
    "try:\n",
    "    data_config = DATA_CONFIG_MAP[\"fourier_gr1_arms_only\"]\n",
    "    modality_config = data_config.modality_config()\n",
    "    modality_transform = data_config.transform()\n",
    "\n",
    "    policy = Gr00tPolicy(\n",
    "        model_path=MODEL_PATH,\n",
    "        embodiment_tag=EMBODIMENT_TAG,\n",
    "        modality_config=modality_config,\n",
    "        modality_transform=modality_transform,\n",
    "        device=device,\n",
    "    )\n",
    "    print(\"✅ Policy loaded successfully!\")\n",
    "\n",
    "except Exception as e:\n",
    "    print(f\"❌ Error loading policy: {e}\")\n",
    "    print(\"This might be due to:\")\n",
    "    print(\"1. Insufficient GPU memory (need at least 8GB)\")\n",
    "    print(\"2. Network issues downloading the model\")\n",
    "    print(\"3. Model not yet available on HuggingFace Hub\")\n",
    "    raise\n"
   ]
  },
  {
   "cell_type": "code",
   "execution_count": 9,
   "metadata": {
    "colab": {
     "base_uri": "https://localhost:8080/",
     "height": 610
    },
    "executionInfo": {
     "elapsed": 244,
     "status": "ok",
     "timestamp": 1753163565261,
     "user": {
      "displayName": "Ido Avnir",
      "userId": "14416193283357805409"
     },
     "user_tz": -180
    },
    "id": "ffAuevsInk1N",
    "outputId": "0a2e2ba6-bb8b-4d4e-8587-c8a3e0a38c21"
   },
   "outputs": [
    {
     "name": "stdout",
     "output_type": "stream",
     "text": [
      "🔄 Loading dataset...\n",
      "Initialized dataset robot_sim.PickNPlace with gr1\n",
      "✅ Dataset loaded successfully!\n",
      "Task description: ['pick the pear from the counter and place it in the plate']\n"
     ]
    },
    {
     "data": {
      "image/png": "[encoded data removed]",
      "text/plain": [
       "<Figure size 800x600 with 1 Axes>"
      ]
     },
     "metadata": {},
     "output_type": "display_data"
    },
    {
     "name": "stdout",
     "output_type": "stream",
     "text": [
      "✅ Robot camera image displayed above!\n"
     ]
    }
   ],
   "source": [
    "# Load dataset\n",
    "print(\"🔄 Loading dataset...\")\n",
    "\n",
    "try:\n",
    "    dataset = LeRobotSingleDataset(\n",
    "        dataset_path=DATASET_PATH,\n",
    "        modality_configs=modality_config,\n",
    "        video_backend=\"decord\",\n",
    "        video_backend_kwargs=None,\n",
    "        transforms=None,\n",
    "        embodiment_tag=EMBODIMENT_TAG,\n",
    "    )\n",
    "    print(\"✅ Dataset loaded successfully!\")\n",
    "\n",
    "    # Get a data point\n",
    "    step_data = dataset[0]\n",
    "    print(f\"Task description: {step_data.get('annotation.human.action.task_description', 'No description')}\")\n",
    "\n",
    "    # Show the robot's view\n",
    "    if 'video.ego_view' in step_data:\n",
    "        image = step_data['video.ego_view'][0]\n",
    "        plt.figure(figsize=(8, 6))\n",
    "        plt.imshow(image)\n",
    "        plt.title(\"Robot's View from Ego Camera\")\n",
    "        plt.axis('off')\n",
    "        plt.show()\n",
    "        print(\"✅ Robot camera image displayed above!\")\n",
    "    else:\n",
    "        print(\"⚠️  No camera image found in dataset\")\n",
    "\n",
    "except Exception as e:\n",
    "    print(f\"❌ Error loading dataset: {e}\")\n",
    "    print(\"You may need to:\")\n",
    "    print(\"1. Provide your own dataset\")\n",
    "    print(\"2. Check the dataset path\")\n",
    "    print(\"3. Download the demo dataset separately\")\n",
    "\n",
    "    # Create a dummy dataset for demonstration\n",
    "    print(\"\\n🔄 Creating minimal demo data for testing...\")\n",
    "    step_data = {\n",
    "        'video.ego_view': np.random.randint(0, 255, (1, 224, 224, 3), dtype=np.uint8),\n",
    "        'state.right_arm': np.random.randn(1, 7).astype(np.float32),\n",
    "        'annotation.human.action.task_description': 'Demo task: pick and place'\n",
    "    }\n",
    "    print(\"✅ Using dummy data for demonstration\")\n"
   ]
  },
  {
   "cell_type": "markdown",
   "metadata": {
    "id": "5idXgbMLnk1N",
    "vscode": {
     "languageId": "raw"
    }
   },
   "source": [
    "## 🧠 Step 7: Vocabulary Projection - What is the VLM \"thinking\"?\n",
    "\n",
    "Now let's peek inside the VLM to see what words/concepts it associates with the visual scene and task instruction.\n",
    "\n",
    "**This is the cool part!** We'll extract the model's internal representations and project them back to vocabulary space to see what \"words\" the model is thinking about.\n"
   ]
  },
  {
   "cell_type": "code",
   "execution_count": 10,
   "metadata": {
    "colab": {
     "base_uri": "https://localhost:8080/"
    },
    "executionInfo": {
     "elapsed": 938,
     "status": "ok",
     "timestamp": 1753163570839,
     "user": {
      "displayName": "Ido Avnir",
      "userId": "14416193283357805409"
     },
     "user_tz": -180
    },
    "id": "Kp2nXtsYnk1N",
    "outputId": "84f57a45-12ff-45fd-c8b5-7d026c037f4e"
   },
   "outputs": [
    {
     "name": "stdout",
     "output_type": "stream",
     "text": [
      "🔄 Running GR00T inference...\n",
      "✅ Inference completed successfully!\n",
      "\n",
      "Predicted actions:\n",
      "  action.left_arm: (16, 7)\n",
      "  action.right_arm: (16, 7)\n",
      "  action.left_hand: (16, 6)\n",
      "  action.right_hand: (16, 6)\n",
      "\n",
      "🦾 Right arm prediction shape: (16, 7)\n",
      "📊 First few predictions for joint 0: [-0.13920784 -0.13888264 -0.13608575 -0.14199471 -0.1482892 ]\n",
      "📈 This represents 16 timesteps for 7 arm joints\n"
     ]
    }
   ],
   "source": [
    "# Run normal inference\n",
    "print(\"🔄 Running GR00T inference...\")\n",
    "\n",
    "try:\n",
    "    predicted_action = policy.get_action(step_data)\n",
    "\n",
    "    print(\"✅ Inference completed successfully!\")\n",
    "    print(\"\\nPredicted actions:\")\n",
    "    for key, value in predicted_action.items():\n",
    "        print(f\"  {key}: {value.shape}\")\n",
    "\n",
    "    # Show joint trajectories for right arm\n",
    "    if \"action.right_arm\" in predicted_action:\n",
    "        right_arm_pred = predicted_action[\"action.right_arm\"]\n",
    "        print(f\"\\n🦾 Right arm prediction shape: {right_arm_pred.shape}\")\n",
    "        print(f\"📊 First few predictions for joint 0: {right_arm_pred[:5, 0]}\")\n",
    "        print(f\"📈 This represents {right_arm_pred.shape[0]} timesteps for {right_arm_pred.shape[1]} arm joints\")\n",
    "    else:\n",
    "        print(\"⚠️  No right arm predictions found\")\n",
    "\n",
    "except Exception as e:\n",
    "    print(f\"❌ Inference failed: {e}\")\n",
    "    print(\"This might be due to:\")\n",
    "    print(\"1. Insufficient GPU memory\")\n",
    "    print(\"2. Invalid input data format\")\n",
    "    print(\"3. Model compatibility issues\")\n",
    "    raise\n"
   ]
  },
  {
   "cell_type": "code",
   "execution_count": null,
   "metadata": {},
   "outputs": [],
   "source": [
    "hidden_states = policy.get_backbone_features(step_data)\n",
    "\n",
    "print(hidden_states.keys())\n"
   ]
  },
  {
   "cell_type": "code",
   "execution_count": null,
   "metadata": {
    "id": "VkieT2WCnk1O"
   },
   "outputs": [],
   "source": [
    "def simple_vocab_projection(hidden_states, policy, top_k=3):\n",
    "    \"\"\"Simple vocabulary projection - project hidden states back to vocabulary space\"\"\"\n",
    "\n",
    "    # Get the correct tokenizer (same as Eagle VLM uses)\n",
    "    try:\n",
    "        from gr00t.model.backbone.eagle_backbone import DEFAULT_EAGLE_PATH\n",
    "        tokenizer = AutoTokenizer.from_pretrained(DEFAULT_EAGLE_PATH, trust_remote_code=True)\n",
    "        print(\"✅ Using Eagle VLM tokenizer (Qwen3-based)\")\n",
    "    except Exception as e:\n",
    "        print(f\"Could not load Eagle tokenizer ({e}), trying Qwen3...\")\n",
    "        try:\n",
    "            tokenizer = AutoTokenizer.from_pretrained(\"Qwen/Qwen3-1.7B\")\n",
    "            print(\"✅ Using Qwen3 tokenizer\")\n",
    "        except:\n",
    "            print(\"⚠️  Using GPT2 tokenizer as fallback\")\n",
    "            tokenizer = AutoTokenizer.from_pretrained(\"gpt2\")\n",
    "\n",
    "    # Access the VLM model\n",
    "    vlm_model = policy.model.backbone.eagle_model\n",
    "\n",
    "    # Try to find the language model head\n",
    "    if hasattr(vlm_model, 'language_model') and hasattr(vlm_model.language_model, 'lm_head'):\n",
    "        lm_head = vlm_model.language_model.lm_head\n",
    "        print(\"Found language model head in vlm_model.language_model.lm_head\")\n",
    "    elif hasattr(vlm_model, 'lm_head'):\n",
    "        lm_head = vlm_model.lm_head\n",
    "        print(\"Found language model head in vlm_model.lm_head\")\n",
    "    else:\n",
    "        print(\"Could not find language model head for vocab projection\")\n",
    "        print(f\"Available attributes: {list(vlm_model.__dict__.keys())}\")\n",
    "        return None\n",
    "\n",
    "    with torch.no_grad():\n",
    "        # Handle batch dimension\n",
    "        if hidden_states.dim() == 3:  # [batch, seq_len, hidden_dim]\n",
    "            hidden_states = hidden_states[0]  # Take first batch\n",
    "\n",
    "        print(f\"Projecting hidden states of shape {hidden_states.shape} to vocabulary space...\")\n",
    "\n",
    "        # Ensure hidden_states and lm_head are on the same device\n",
    "        lm_head_device = next(lm_head.parameters()).device\n",
    "        hidden_states = hidden_states.to(lm_head_device)\n",
    "        \n",
    "        print(f\"Hidden states device after: {hidden_states.device}\")\n",
    "        print(f\"LM head device after: {lm_head_device}\")\n",
    "\n",
    "        # Project to vocabulary space\n",
    "        logits = lm_head(hidden_states)  # [seq_len, vocab_size]\n",
    "        vocab_probs = torch.softmax(logits, dim=-1)\n",
    "\n",
    "        print(f\"Vocabulary projection shape: {vocab_probs.shape}\")\n",
    "\n",
    "        # Get top-k words for each position\n",
    "        seq_len = vocab_probs.shape[0]\n",
    "        results = []\n",
    "\n",
    "        for pos in range(seq_len):  \n",
    "            top_values, top_indices = torch.topk(vocab_probs[pos], top_k)\n",
    "            top_words = []\n",
    "\n",
    "            for idx in top_indices:\n",
    "                try:\n",
    "                    word = tokenizer.decode([idx.item()]).strip()\n",
    "                    if word and len(word) > 0 and word not in ['<', '>', '|', ' ']:\n",
    "                        top_words.append(word)\n",
    "                except:\n",
    "                    pass\n",
    "\n",
    "            if len(top_words) > 0:\n",
    "                results.append({\n",
    "                    'position': pos,\n",
    "                    'words': top_words[:top_k],\n",
    "                    'probabilities': top_values.float().cpu().numpy()[:len(top_words)]\n",
    "                })\n",
    "\n",
    "        return results\n",
    "\n",
    "# 🚀 EVEN SIMPLER: One-liner vocabulary projection!\n",
    "def vocab_projection_oneliner(policy, observations, top_k=3):\n",
    "    \"\"\"Complete vocabulary projection in one simple function\"\"\"\n",
    "    hidden_states = policy.get_backbone_features(observations)['backbone_features']\n",
    "    return simple_vocab_projection(hidden_states, policy, top_k)\n",
    "\n",
    "# Alternative one-liner approach:\n",
    "vocab_results = vocab_projection_oneliner(policy, step_data, top_k=3)\n"
   ]
  },
  {
   "cell_type": "code",
   "execution_count": null,
   "metadata": {
    "id": "U7kPZhQ1nk1O"
   },
   "outputs": [],
   "source": [
    "# Display vocabulary projection results\n",
    "if vocab_results:\n",
    "    print(\"\\n\" + \"=\"*60)\n",
    "    print(\"TOP WORDS AT EACH POSITION (what the VLM is 'thinking'):\")\n",
    "    print(\"=\"*60)\n",
    "\n",
    "    for result in vocab_results:\n",
    "        pos = result['position']\n",
    "        words = result['words']\n",
    "        probs = result['probabilities']\n",
    "\n",
    "        word_prob_pairs = [f\"{word}({prob:.3f})\" for word, prob in zip(words, probs)]\n",
    "        print(f\"Position {pos:2d}: {', '.join(word_prob_pairs)}\")\n",
    "\n",
    "    print(\"\\n\" + \"=\"*60)\n",
    "    print(\"INTERPRETATION GUIDE:\")\n",
    "    print(\"- Early positions (0-10): Often represent visual concepts from the image\")\n",
    "    print(\"- Later positions (10+): Often represent language concepts from instruction\")\n",
    "    print(\"- High probabilities (>0.1): Strong semantic activations\")\n",
    "    print(\"- Related words together: Semantic clusters\")\n",
    "    print(\"=\"*60)\n",
    "\n",
    "else:\n",
    "    print(\"Could not perform vocabulary projection\")\n",
    "    print(\"This might be normal - some model architectures don't expose the language model head\")\n"
   ]
  },
  {
   "cell_type": "markdown",
   "metadata": {
    "id": "qXqq-fnank1O",
    "vscode": {
     "languageId": "raw"
    }
   },
   "source": [
    "## ✅ Completed!\n",
    "\n",
    "Great job! You've successfully run GR00T inference with vocabulary projection. You now understand:\n",
    "\n",
    "- How to set up GR00T in Colab with compatible dependencies\n",
    "- How to run robot action inference\n",
    "- How to extract and interpret VLM internal representations\n",
    "- What concepts the model associates with visual and language inputs\n",
    "\n",
    "**Next steps**: Try with different images, modify the task descriptions, or explore other layers of the VLM!\n"
   ]
  },
  {
   "cell_type": "code",
   "execution_count": null,
   "metadata": {
    "id": "kuT8nH9Hnk1O"
   },
   "outputs": [],
   "source": [
    "# Check GPU memory usage\n",
    "if torch.cuda.is_available():\n",
    "    print(\"🖥️  GPU Memory Status:\")\n",
    "    print(f\"  Allocated: {torch.cuda.memory_allocated() / 1e9:.2f} GB\")\n",
    "    print(f\"  Cached: {torch.cuda.memory_reserved() / 1e9:.2f} GB\")\n",
    "    print(f\"  Total GPU Memory: {torch.cuda.get_device_properties(0).total_memory / 1e9:.2f} GB\")\n",
    "\n",
    "    # Calculate usage percentage\n",
    "    usage_percent = (torch.cuda.memory_allocated() / torch.cuda.get_device_properties(0).total_memory) * 100\n",
    "    print(f\"  Usage: {usage_percent:.1f}%\")\n",
    "\n",
    "    if usage_percent > 90:\n",
    "        print(\"⚠️  High memory usage! Consider clearing cache.\")\n",
    "        print(\"Run: torch.cuda.empty_cache()\")\n",
    "    elif usage_percent > 70:\n",
    "        print(\"🟡 Moderate memory usage\")\n",
    "    else:\n",
    "        print(\"✅ Memory usage looks good!\")\n",
    "\n",
    "    # Option to clear cache\n",
    "    print(\"\\n🧹 To free up GPU memory, run:\")\n",
    "    print(\"torch.cuda.empty_cache()\")\n",
    "\n",
    "else:\n",
    "    print(\"❌ No CUDA GPU available\")\n",
    "\n",
    "print(f\"\\n📍 Current directory: {os.getcwd()}\")\n",
    "print(\"✅ Notebook completed successfully!\")\n"
   ]
  }
 ],
 "metadata": {
  "accelerator": "GPU",
  "colab": {
   "gpuType": "A100",
   "machine_shape": "hm",
   "provenance": []
  },
  "kernelspec": {
   "display_name": "Python 3",
   "name": "python3"
  },
  "language_info": {
   "name": "python"
  },
  "widgets": {
   "application/vnd.jupyter.widget-state+json": {
    "06e2c3e2d83941c695eec2c9e3e8a407": {
     "model_module": "@jupyter-widgets/controls",
     "model_module_version": "1.5.0",
     "model_name": "HTMLModel",
     "state": {
      "_dom_classes": [],
      "_model_module": "@jupyter-widgets/controls",
      "_model_module_version": "1.5.0",
      "_model_name": "HTMLModel",
      "_view_count": null,
      "_view_module": "@jupyter-widgets/controls",
      "_view_module_version": "1.5.0",
      "_view_name": "HTMLView",
      "description": "",
      "description_tooltip": null,
      "layout": "IPY_MODEL_5c5650cba8774d8fa25adc96028acb90",
      "placeholder": "​",
      "style": "IPY_MODEL_9d4abbe2304e41aeb8e035c752fe0437",
      "value": " 13/13 [00:00&lt;00:00, 1518.70it/s]"
     }
    },
    "0f82c8ff773440dfb0a7dafe43e59b26": {
     "model_module": "@jupyter-widgets/base",
     "model_module_version": "1.2.0",
     "model_name": "LayoutModel",
     "state": {
      "_model_module": "@jupyter-widgets/base",
      "_model_module_version": "1.2.0",
      "_model_name": "LayoutModel",
      "_view_count": null,
      "_view_module": "@jupyter-widgets/base",
      "_view_module_version": "1.2.0",
      "_view_name": "LayoutView",
      "align_content": null,
      "align_items": null,
      "align_self": null,
      "border": null,
      "bottom": null,
      "display": null,
      "flex": null,
      "flex_flow": null,
      "grid_area": null,
      "grid_auto_columns": null,
      "grid_auto_flow": null,
      "grid_auto_rows": null,
      "grid_column": null,
      "grid_gap": null,
      "grid_row": null,
      "grid_template_areas": null,
      "grid_template_columns": null,
      "grid_template_rows": null,
      "height": null,
      "justify_content": null,
      "justify_items": null,
      "left": null,
      "margin": null,
      "max_height": null,
      "max_width": null,
      "min_height": null,
      "min_width": null,
      "object_fit": null,
      "object_position": null,
      "order": null,
      "overflow": null,
      "overflow_x": null,
      "overflow_y": null,
      "padding": null,
      "right": null,
      "top": null,
      "visibility": null,
      "width": null
     }
    },
    "1b4d658cc13e4e93b23fe0f6dd744f84": {
     "model_module": "@jupyter-widgets/base",
     "model_module_version": "1.2.0",
     "model_name": "LayoutModel",
     "state": {
      "_model_module": "@jupyter-widgets/base",
      "_model_module_version": "1.2.0",
      "_model_name": "LayoutModel",
      "_view_count": null,
      "_view_module": "@jupyter-widgets/base",
      "_view_module_version": "1.2.0",
      "_view_name": "LayoutView",
      "align_content": null,
      "align_items": null,
      "align_self": null,
      "border": null,
      "bottom": null,
      "display": null,
      "flex": null,
      "flex_flow": null,
      "grid_area": null,
      "grid_auto_columns": null,
      "grid_auto_flow": null,
      "grid_auto_rows": null,
      "grid_column": null,
      "grid_gap": null,
      "grid_row": null,
      "grid_template_areas": null,
      "grid_template_columns": null,
      "grid_template_rows": null,
      "height": null,
      "justify_content": null,
      "justify_items": null,
      "left": null,
      "margin": null,
      "max_height": null,
      "max_width": null,
      "min_height": null,
      "min_width": null,
      "object_fit": null,
      "object_position": null,
      "order": null,
      "overflow": null,
      "overflow_x": null,
      "overflow_y": null,
      "padding": null,
      "right": null,
      "top": null,
      "visibility": null,
      "width": null
     }
    },
    "1c20044c8ed24593b03ace464f2e038b": {
     "model_module": "@jupyter-widgets/base",
     "model_module_version": "1.2.0",
     "model_name": "LayoutModel",
     "state": {
      "_model_module": "@jupyter-widgets/base",
      "_model_module_version": "1.2.0",
      "_model_name": "LayoutModel",
      "_view_count": null,
      "_view_module": "@jupyter-widgets/base",
      "_view_module_version": "1.2.0",
      "_view_name": "LayoutView",
      "align_content": null,
      "align_items": null,
      "align_self": null,
      "border": null,
      "bottom": null,
      "display": null,
      "flex": null,
      "flex_flow": null,
      "grid_area": null,
      "grid_auto_columns": null,
      "grid_auto_flow": null,
      "grid_auto_rows": null,
      "grid_column": null,
      "grid_gap": null,
      "grid_row": null,
      "grid_template_areas": null,
      "grid_template_columns": null,
      "grid_template_rows": null,
      "height": null,
      "justify_content": null,
      "justify_items": null,
      "left": null,
      "margin": null,
      "max_height": null,
      "max_width": null,
      "min_height": null,
      "min_width": null,
      "object_fit": null,
      "object_position": null,
      "order": null,
      "overflow": null,
      "overflow_x": null,
      "overflow_y": null,
      "padding": null,
      "right": null,
      "top": null,
      "visibility": null,
      "width": null
     }
    },
    "1d54fd7679f34725a17cabdcf7881c06": {
     "model_module": "@jupyter-widgets/controls",
     "model_module_version": "1.5.0",
     "model_name": "HBoxModel",
     "state": {
      "_dom_classes": [],
      "_model_module": "@jupyter-widgets/controls",
      "_model_module_version": "1.5.0",
      "_model_name": "HBoxModel",
      "_view_count": null,
      "_view_module": "@jupyter-widgets/controls",
      "_view_module_version": "1.5.0",
      "_view_name": "HBoxView",
      "box_style": "",
      "children": [
       "IPY_MODEL_42f6036b6bc447a7afe36aa04b6d77ad",
       "IPY_MODEL_830fb4f063224a3ca5849d38c7f525bf",
       "IPY_MODEL_06e2c3e2d83941c695eec2c9e3e8a407"
      ],
      "layout": "IPY_MODEL_62ae605b4795420da4be3caf6b3b7b55"
     }
    },
    "28281f92e1324ddf90c7858ca2e8ad70": {
     "model_module": "@jupyter-widgets/base",
     "model_module_version": "1.2.0",
     "model_name": "LayoutModel",
     "state": {
      "_model_module": "@jupyter-widgets/base",
      "_model_module_version": "1.2.0",
      "_model_name": "LayoutModel",
      "_view_count": null,
      "_view_module": "@jupyter-widgets/base",
      "_view_module_version": "1.2.0",
      "_view_name": "LayoutView",
      "align_content": null,
      "align_items": null,
      "align_self": null,
      "border": null,
      "bottom": null,
      "display": null,
      "flex": null,
      "flex_flow": null,
      "grid_area": null,
      "grid_auto_columns": null,
      "grid_auto_flow": null,
      "grid_auto_rows": null,
      "grid_column": null,
      "grid_gap": null,
      "grid_row": null,
      "grid_template_areas": null,
      "grid_template_columns": null,
      "grid_template_rows": null,
      "height": null,
      "justify_content": null,
      "justify_items": null,
      "left": null,
      "margin": null,
      "max_height": null,
      "max_width": null,
      "min_height": null,
      "min_width": null,
      "object_fit": null,
      "object_position": null,
      "order": null,
      "overflow": null,
      "overflow_x": null,
      "overflow_y": null,
      "padding": null,
      "right": null,
      "top": null,
      "visibility": null,
      "width": null
     }
    },
    "42f6036b6bc447a7afe36aa04b6d77ad": {
     "model_module": "@jupyter-widgets/controls",
     "model_module_version": "1.5.0",
     "model_name": "HTMLModel",
     "state": {
      "_dom_classes": [],
      "_model_module": "@jupyter-widgets/controls",
      "_model_module_version": "1.5.0",
      "_model_name": "HTMLModel",
      "_view_count": null,
      "_view_module": "@jupyter-widgets/controls",
      "_view_module_version": "1.5.0",
      "_view_name": "HTMLView",
      "description": "",
      "description_tooltip": null,
      "layout": "IPY_MODEL_1b4d658cc13e4e93b23fe0f6dd744f84",
      "placeholder": "​",
      "style": "IPY_MODEL_fe6e55d8121e478db8de4f28b0ab1b7f",
      "value": "Fetching 13 files: 100%"
     }
    },
    "43ff9aa8a9244e8ca5760247c1a21fe2": {
     "model_module": "@jupyter-widgets/controls",
     "model_module_version": "1.5.0",
     "model_name": "HBoxModel",
     "state": {
      "_dom_classes": [],
      "_model_module": "@jupyter-widgets/controls",
      "_model_module_version": "1.5.0",
      "_model_name": "HBoxModel",
      "_view_count": null,
      "_view_module": "@jupyter-widgets/controls",
      "_view_module_version": "1.5.0",
      "_view_name": "HBoxView",
      "box_style": "",
      "children": [
       "IPY_MODEL_71fd96c5211d45bd8c97740352e74e6c",
       "IPY_MODEL_f2a1c6f6d237485ca0d353ddddb47a20",
       "IPY_MODEL_cc869d8056fb40c3b684ecb12a6f6d94"
      ],
      "layout": "IPY_MODEL_28281f92e1324ddf90c7858ca2e8ad70"
     }
    },
    "5c5650cba8774d8fa25adc96028acb90": {
     "model_module": "@jupyter-widgets/base",
     "model_module_version": "1.2.0",
     "model_name": "LayoutModel",
     "state": {
      "_model_module": "@jupyter-widgets/base",
      "_model_module_version": "1.2.0",
      "_model_name": "LayoutModel",
      "_view_count": null,
      "_view_module": "@jupyter-widgets/base",
      "_view_module_version": "1.2.0",
      "_view_name": "LayoutView",
      "align_content": null,
      "align_items": null,
      "align_self": null,
      "border": null,
      "bottom": null,
      "display": null,
      "flex": null,
      "flex_flow": null,
      "grid_area": null,
      "grid_auto_columns": null,
      "grid_auto_flow": null,
      "grid_auto_rows": null,
      "grid_column": null,
      "grid_gap": null,
      "grid_row": null,
      "grid_template_areas": null,
      "grid_template_columns": null,
      "grid_template_rows": null,
      "height": null,
      "justify_content": null,
      "justify_items": null,
      "left": null,
      "margin": null,
      "max_height": null,
      "max_width": null,
      "min_height": null,
      "min_width": null,
      "object_fit": null,
      "object_position": null,
      "order": null,
      "overflow": null,
      "overflow_x": null,
      "overflow_y": null,
      "padding": null,
      "right": null,
      "top": null,
      "visibility": null,
      "width": null
     }
    },
    "5d52974868344867a968315ebeb2350f": {
     "model_module": "@jupyter-widgets/controls",
     "model_module_version": "1.5.0",
     "model_name": "DescriptionStyleModel",
     "state": {
      "_model_module": "@jupyter-widgets/controls",
      "_model_module_version": "1.5.0",
      "_model_name": "DescriptionStyleModel",
      "_view_count": null,
      "_view_module": "@jupyter-widgets/base",
      "_view_module_version": "1.2.0",
      "_view_name": "StyleView",
      "description_width": ""
     }
    },
    "62ae605b4795420da4be3caf6b3b7b55": {
     "model_module": "@jupyter-widgets/base",
     "model_module_version": "1.2.0",
     "model_name": "LayoutModel",
     "state": {
      "_model_module": "@jupyter-widgets/base",
      "_model_module_version": "1.2.0",
      "_model_name": "LayoutModel",
      "_view_count": null,
      "_view_module": "@jupyter-widgets/base",
      "_view_module_version": "1.2.0",
      "_view_name": "LayoutView",
      "align_content": null,
      "align_items": null,
      "align_self": null,
      "border": null,
      "bottom": null,
      "display": null,
      "flex": null,
      "flex_flow": null,
      "grid_area": null,
      "grid_auto_columns": null,
      "grid_auto_flow": null,
      "grid_auto_rows": null,
      "grid_column": null,
      "grid_gap": null,
      "grid_row": null,
      "grid_template_areas": null,
      "grid_template_columns": null,
      "grid_template_rows": null,
      "height": null,
      "justify_content": null,
      "justify_items": null,
      "left": null,
      "margin": null,
      "max_height": null,
      "max_width": null,
      "min_height": null,
      "min_width": null,
      "object_fit": null,
      "object_position": null,
      "order": null,
      "overflow": null,
      "overflow_x": null,
      "overflow_y": null,
      "padding": null,
      "right": null,
      "top": null,
      "visibility": null,
      "width": null
     }
    },
    "673b4c7c5d54441f9cc2429acd10a5bb": {
     "model_module": "@jupyter-widgets/controls",
     "model_module_version": "1.5.0",
     "model_name": "ProgressStyleModel",
     "state": {
      "_model_module": "@jupyter-widgets/controls",
      "_model_module_version": "1.5.0",
      "_model_name": "ProgressStyleModel",
      "_view_count": null,
      "_view_module": "@jupyter-widgets/base",
      "_view_module_version": "1.2.0",
      "_view_name": "StyleView",
      "bar_color": null,
      "description_width": ""
     }
    },
    "71fd96c5211d45bd8c97740352e74e6c": {
     "model_module": "@jupyter-widgets/controls",
     "model_module_version": "1.5.0",
     "model_name": "HTMLModel",
     "state": {
      "_dom_classes": [],
      "_model_module": "@jupyter-widgets/controls",
      "_model_module_version": "1.5.0",
      "_model_name": "HTMLModel",
      "_view_count": null,
      "_view_module": "@jupyter-widgets/controls",
      "_view_module_version": "1.5.0",
      "_view_name": "HTMLView",
      "description": "",
      "description_tooltip": null,
      "layout": "IPY_MODEL_f4beda3a354d4d3bb638b7e408a6a3f4",
      "placeholder": "​",
      "style": "IPY_MODEL_5d52974868344867a968315ebeb2350f",
      "value": "Loading checkpoint shards: 100%"
     }
    },
    "830fb4f063224a3ca5849d38c7f525bf": {
     "model_module": "@jupyter-widgets/controls",
     "model_module_version": "1.5.0",
     "model_name": "FloatProgressModel",
     "state": {
      "_dom_classes": [],
      "_model_module": "@jupyter-widgets/controls",
      "_model_module_version": "1.5.0",
      "_model_name": "FloatProgressModel",
      "_view_count": null,
      "_view_module": "@jupyter-widgets/controls",
      "_view_module_version": "1.5.0",
      "_view_name": "ProgressView",
      "bar_style": "success",
      "description": "",
      "description_tooltip": null,
      "layout": "IPY_MODEL_1c20044c8ed24593b03ace464f2e038b",
      "max": 13,
      "min": 0,
      "orientation": "horizontal",
      "style": "IPY_MODEL_b1924922c4674a319813236ab1160025",
      "value": 13
     }
    },
    "9d4abbe2304e41aeb8e035c752fe0437": {
     "model_module": "@jupyter-widgets/controls",
     "model_module_version": "1.5.0",
     "model_name": "DescriptionStyleModel",
     "state": {
      "_model_module": "@jupyter-widgets/controls",
      "_model_module_version": "1.5.0",
      "_model_name": "DescriptionStyleModel",
      "_view_count": null,
      "_view_module": "@jupyter-widgets/base",
      "_view_module_version": "1.2.0",
      "_view_name": "StyleView",
      "description_width": ""
     }
    },
    "a20954b52513439cbee4134c77bb5e8a": {
     "model_module": "@jupyter-widgets/base",
     "model_module_version": "1.2.0",
     "model_name": "LayoutModel",
     "state": {
      "_model_module": "@jupyter-widgets/base",
      "_model_module_version": "1.2.0",
      "_model_name": "LayoutModel",
      "_view_count": null,
      "_view_module": "@jupyter-widgets/base",
      "_view_module_version": "1.2.0",
      "_view_name": "LayoutView",
      "align_content": null,
      "align_items": null,
      "align_self": null,
      "border": null,
      "bottom": null,
      "display": null,
      "flex": null,
      "flex_flow": null,
      "grid_area": null,
      "grid_auto_columns": null,
      "grid_auto_flow": null,
      "grid_auto_rows": null,
      "grid_column": null,
      "grid_gap": null,
      "grid_row": null,
      "grid_template_areas": null,
      "grid_template_columns": null,
      "grid_template_rows": null,
      "height": null,
      "justify_content": null,
      "justify_items": null,
      "left": null,
      "margin": null,
      "max_height": null,
      "max_width": null,
      "min_height": null,
      "min_width": null,
      "object_fit": null,
      "object_position": null,
      "order": null,
      "overflow": null,
      "overflow_x": null,
      "overflow_y": null,
      "padding": null,
      "right": null,
      "top": null,
      "visibility": null,
      "width": null
     }
    },
    "a7576b1852154347a7cc23b872b2edcc": {
     "model_module": "@jupyter-widgets/controls",
     "model_module_version": "1.5.0",
     "model_name": "DescriptionStyleModel",
     "state": {
      "_model_module": "@jupyter-widgets/controls",
      "_model_module_version": "1.5.0",
      "_model_name": "DescriptionStyleModel",
      "_view_count": null,
      "_view_module": "@jupyter-widgets/base",
      "_view_module_version": "1.2.0",
      "_view_name": "StyleView",
      "description_width": ""
     }
    },
    "b1924922c4674a319813236ab1160025": {
     "model_module": "@jupyter-widgets/controls",
     "model_module_version": "1.5.0",
     "model_name": "ProgressStyleModel",
     "state": {
      "_model_module": "@jupyter-widgets/controls",
      "_model_module_version": "1.5.0",
      "_model_name": "ProgressStyleModel",
      "_view_count": null,
      "_view_module": "@jupyter-widgets/base",
      "_view_module_version": "1.2.0",
      "_view_name": "StyleView",
      "bar_color": null,
      "description_width": ""
     }
    },
    "cc869d8056fb40c3b684ecb12a6f6d94": {
     "model_module": "@jupyter-widgets/controls",
     "model_module_version": "1.5.0",
     "model_name": "HTMLModel",
     "state": {
      "_dom_classes": [],
      "_model_module": "@jupyter-widgets/controls",
      "_model_module_version": "1.5.0",
      "_model_name": "HTMLModel",
      "_view_count": null,
      "_view_module": "@jupyter-widgets/controls",
      "_view_module_version": "1.5.0",
      "_view_name": "HTMLView",
      "description": "",
      "description_tooltip": null,
      "layout": "IPY_MODEL_0f82c8ff773440dfb0a7dafe43e59b26",
      "placeholder": "​",
      "style": "IPY_MODEL_a7576b1852154347a7cc23b872b2edcc",
      "value": " 3/3 [00:00&lt;00:00,  9.67it/s]"
     }
    },
    "f2a1c6f6d237485ca0d353ddddb47a20": {
     "model_module": "@jupyter-widgets/controls",
     "model_module_version": "1.5.0",
     "model_name": "FloatProgressModel",
     "state": {
      "_dom_classes": [],
      "_model_module": "@jupyter-widgets/controls",
      "_model_module_version": "1.5.0",
      "_model_name": "FloatProgressModel",
      "_view_count": null,
      "_view_module": "@jupyter-widgets/controls",
      "_view_module_version": "1.5.0",
      "_view_name": "ProgressView",
      "bar_style": "success",
      "description": "",
      "description_tooltip": null,
      "layout": "IPY_MODEL_a20954b52513439cbee4134c77bb5e8a",
      "max": 3,
      "min": 0,
      "orientation": "horizontal",
      "style": "IPY_MODEL_673b4c7c5d54441f9cc2429acd10a5bb",
      "value": 3
     }
    },
    "f4beda3a354d4d3bb638b7e408a6a3f4": {
     "model_module": "@jupyter-widgets/base",
     "model_module_version": "1.2.0",
     "model_name": "LayoutModel",
     "state": {
      "_model_module": "@jupyter-widgets/base",
      "_model_module_version": "1.2.0",
      "_model_name": "LayoutModel",
      "_view_count": null,
      "_view_module": "@jupyter-widgets/base",
      "_view_module_version": "1.2.0",
      "_view_name": "LayoutView",
      "align_content": null,
      "align_items": null,
      "align_self": null,
      "border": null,
      "bottom": null,
      "display": null,
      "flex": null,
      "flex_flow": null,
      "grid_area": null,
      "grid_auto_columns": null,
      "grid_auto_flow": null,
      "grid_auto_rows": null,
      "grid_column": null,
      "grid_gap": null,
      "grid_row": null,
      "grid_template_areas": null,
      "grid_template_columns": null,
      "grid_template_rows": null,
      "height": null,
      "justify_content": null,
      "justify_items": null,
      "left": null,
      "margin": null,
      "max_height": null,
      "max_width": null,
      "min_height": null,
      "min_width": null,
      "object_fit": null,
      "object_position": null,
      "order": null,
      "overflow": null,
      "overflow_x": null,
      "overflow_y": null,
      "padding": null,
      "right": null,
      "top": null,
      "visibility": null,
      "width": null
     }
    },
    "fe6e55d8121e478db8de4f28b0ab1b7f": {
     "model_module": "@jupyter-widgets/controls",
     "model_module_version": "1.5.0",
     "model_name": "DescriptionStyleModel",
     "state": {
      "_model_module": "@jupyter-widgets/controls",
      "_model_module_version": "1.5.0",
      "_model_name": "DescriptionStyleModel",
      "_view_count": null,
      "_view_module": "@jupyter-widgets/base",
      "_view_module_version": "1.2.0",
      "_view_name": "StyleView",
      "description_width": ""
     }
    }
   }
  }
 },
 "nbformat": 4,
 "nbformat_minor": 0
}
