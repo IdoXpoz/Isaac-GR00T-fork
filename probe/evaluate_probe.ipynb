{
 "cells": [
  {
   "cell_type": "markdown",
   "metadata": {
    "id": "YewBQ__2XBQU"
   },
   "source": [
    "# GR00T Probe Evaluation Notebook\n",
    "\n",
    "This notebook provides a convenient interface to evaluate the trained GR00T probe model.\n",
    "\n",
    "## Features:\n",
    "- **Detailed Metrics**: MSE, RMSE, MAE, correlation analysis\n",
    "- **Visualizations**: Training curves and prediction plots\n",
    "- **Feature Type Support**: Evaluate `mean_pooled` or `last_vector` models\n",
    "- **Performance Analysis**: Per-dimension and overall performance\n",
    "\n",
    "## Requirements:\n",
    "- Trained model: `probe/best_probe_model.pth` (from training)\n",
    "- Processed data: `probe_training_data_60k_processed.parquet`\n",
    "- Training history: `probe/training_history.pkl` (for plots)"
   ]
  },
  {
   "cell_type": "markdown",
   "metadata": {
    "id": "_H7XOq1sXBQY"
   },
   "source": [
    "## 🔧 Configuration\n",
    "\n",
    "**Important**: Make sure `FEATURE_TYPE` matches the one used during training!"
   ]
  },
  {
   "cell_type": "code",
   "execution_count": 3,
   "metadata": {
    "colab": {
     "base_uri": "https://localhost:8080/"
    },
    "executionInfo": {
     "elapsed": 3324,
     "status": "ok",
     "timestamp": 1754584115630,
     "user": {
      "displayName": "Ido Avnir",
      "userId": "14416193283357805409"
     },
     "user_tz": -180
    },
    "id": "vSuyAGS-XHiI",
    "outputId": "b0f0b831-dd7f-47b2-ed4b-dfdbbd8ee35f"
   },
   "outputs": [
    {
     "name": "stdout",
     "output_type": "stream",
     "text": [
      "Cloning into 'Isaac-GR00T-fork'...\n",
      "remote: Enumerating objects: 763, done.\u001b[K\n",
      "remote: Counting objects: 100% (405/405), done.\u001b[K\n",
      "remote: Compressing objects: 100% (228/228), done.\u001b[K\n",
      "remote: Total 763 (delta 285), reused 197 (delta 177), pack-reused 358 (from 3)\u001b[K\n",
      "Receiving objects: 100% (763/763), 48.61 MiB | 26.07 MiB/s, done.\n",
      "Resolving deltas: 100% (397/397), done.\n",
      "/content/Isaac-GR00T-fork\n"
     ]
    }
   ],
   "source": [
    "# ===== GR00T CLEAN SETUP IN COLAB =====\n",
    "\n",
    "# Step 1: Clone repo\n",
    "!git clone https://github.com/IdoXpoz/Isaac-GR00T-fork.git\n",
    "%cd Isaac-GR00T-fork"
   ]
  },
  {
   "cell_type": "code",
   "execution_count": 4,
   "metadata": {
    "colab": {
     "base_uri": "https://localhost:8080/"
    },
    "executionInfo": {
     "elapsed": 632,
     "status": "ok",
     "timestamp": 1754584116265,
     "user": {
      "displayName": "Ido Avnir",
      "userId": "14416193283357805409"
     },
     "user_tz": -180
    },
    "id": "E0Q946r7XHVb",
    "outputId": "945e10a6-217c-4e8f-91a4-a519014c23a5"
   },
   "outputs": [
    {
     "name": "stdout",
     "output_type": "stream",
     "text": [
      "Already on 'main'\n",
      "Your branch is up to date with 'origin/main'.\n"
     ]
    }
   ],
   "source": [
    "!git fetch\n",
    "!git checkout main\n"
   ]
  },
  {
   "cell_type": "code",
   "execution_count": 5,
   "metadata": {
    "colab": {
     "base_uri": "https://localhost:8080/"
    },
    "executionInfo": {
     "elapsed": 392,
     "status": "ok",
     "timestamp": 1754584116658,
     "user": {
      "displayName": "Ido Avnir",
      "userId": "14416193283357805409"
     },
     "user_tz": -180
    },
    "id": "N58ed16KXHOW",
    "outputId": "65c5a6cc-494d-4e23-d6bb-8143163f657d"
   },
   "outputs": [
    {
     "name": "stdout",
     "output_type": "stream",
     "text": [
      "From https://github.com/IdoXpoz/Isaac-GR00T-fork\n",
      " * branch            main       -> FETCH_HEAD\n",
      "Already up to date.\n"
     ]
    }
   ],
   "source": [
    "!git pull origin main"
   ]
  },
  {
   "cell_type": "code",
   "execution_count": 6,
   "metadata": {
    "colab": {
     "base_uri": "https://localhost:8080/"
    },
    "executionInfo": {
     "elapsed": 19032,
     "status": "ok",
     "timestamp": 1754584135693,
     "user": {
      "displayName": "Ido Avnir",
      "userId": "14416193283357805409"
     },
     "user_tz": -180
    },
    "id": "cRzXmeuBXG_V",
    "outputId": "7c5a9af3-f9fa-4ad5-e8ee-3484f0d5a069"
   },
   "outputs": [
    {
     "name": "stdout",
     "output_type": "stream",
     "text": [
      "Mounted at /content/drive\n"
     ]
    }
   ],
   "source": [
    "# Mount Google Drive for persistent storage\n",
    "from google.colab import drive\n",
    "drive.mount('/content/drive')"
   ]
  },
  {
   "cell_type": "code",
   "execution_count": null,
   "metadata": {
    "colab": {
     "base_uri": "https://localhost:8080/",
     "height": 518
    },
    "executionInfo": {
     "elapsed": 37,
     "status": "error",
     "timestamp": 1754584155676,
     "user": {
      "displayName": "Ido Avnir",
      "userId": "14416193283357805409"
     },
     "user_tz": -180
    },
    "id": "XIK3PGubXBQa",
    "outputId": "3ef8405c-e521-4db6-e8a9-2a83fa43df9f"
   },
   "outputs": [
    {
     "ename": "ModuleNotFoundError",
     "evalue": "No module named 'train_probe'",
     "output_type": "error",
     "traceback": [
      "\u001b[0;31m---------------------------------------------------------------------------\u001b[0m",
      "\u001b[0;31mModuleNotFoundError\u001b[0m                       Traceback (most recent call last)",
      "\u001b[0;32m/tmp/ipython-input-2366419182.py\u001b[0m in \u001b[0;36m<cell line: 0>\u001b[0;34m()\u001b[0m\n\u001b[1;32m      7\u001b[0m \u001b[0;34m\u001b[0m\u001b[0m\n\u001b[1;32m      8\u001b[0m \u001b[0;31m# Import evaluation function\u001b[0m\u001b[0;34m\u001b[0m\u001b[0;34m\u001b[0m\u001b[0m\n\u001b[0;32m----> 9\u001b[0;31m \u001b[0;32mfrom\u001b[0m \u001b[0mprobe\u001b[0m\u001b[0;34m.\u001b[0m\u001b[0mevaluate_probe\u001b[0m \u001b[0;32mimport\u001b[0m \u001b[0mmain\u001b[0m \u001b[0;32mas\u001b[0m \u001b[0mevaluate_main\u001b[0m\u001b[0;34m\u001b[0m\u001b[0;34m\u001b[0m\u001b[0m\n\u001b[0m\u001b[1;32m     10\u001b[0m \u001b[0;34m\u001b[0m\u001b[0m\n\u001b[1;32m     11\u001b[0m \u001b[0mprint\u001b[0m\u001b[0;34m(\u001b[0m\u001b[0;34m\"🔍 Starting probe evaluation...\"\u001b[0m\u001b[0;34m)\u001b[0m\u001b[0;34m\u001b[0m\u001b[0;34m\u001b[0m\u001b[0m\n",
      "\u001b[0;32m/content/Isaac-GR00T-fork/probe/evaluate_probe.py\u001b[0m in \u001b[0;36m<module>\u001b[0;34m\u001b[0m\n\u001b[1;32m     17\u001b[0m \u001b[0;32mfrom\u001b[0m \u001b[0mtyping\u001b[0m \u001b[0;32mimport\u001b[0m \u001b[0mDict\u001b[0m\u001b[0;34m,\u001b[0m \u001b[0mList\u001b[0m\u001b[0;34m,\u001b[0m \u001b[0mTuple\u001b[0m\u001b[0;34m\u001b[0m\u001b[0;34m\u001b[0m\u001b[0m\n\u001b[1;32m     18\u001b[0m \u001b[0;34m\u001b[0m\u001b[0m\n\u001b[0;32m---> 19\u001b[0;31m \u001b[0;32mfrom\u001b[0m \u001b[0mtrain_probe\u001b[0m \u001b[0;32mimport\u001b[0m \u001b[0mActionProbe\u001b[0m\u001b[0;34m,\u001b[0m \u001b[0mProbeDataset\u001b[0m\u001b[0;34m,\u001b[0m \u001b[0mload_probe_data\u001b[0m\u001b[0;34m,\u001b[0m \u001b[0msplit_data\u001b[0m\u001b[0;34m\u001b[0m\u001b[0;34m\u001b[0m\u001b[0m\n\u001b[0m\u001b[1;32m     20\u001b[0m \u001b[0;34m\u001b[0m\u001b[0m\n\u001b[1;32m     21\u001b[0m \u001b[0;34m\u001b[0m\u001b[0m\n",
      "\u001b[0;31mModuleNotFoundError\u001b[0m: No module named 'train_probe'",
      "",
      "\u001b[0;31m---------------------------------------------------------------------------\u001b[0;32m\nNOTE: If your import is failing due to a missing package, you can\nmanually install dependencies using either !pip or !apt.\n\nTo view examples of installing some common dependencies, click the\n\"Open Examples\" button below.\n\u001b[0;31m---------------------------------------------------------------------------\u001b[0m\n"
     ]
    }
   ],
   "source": [
    "# Import and run evaluation\n",
    "import sys\n",
    "import os\n",
    "\n",
    "# Add current directory to path\n",
    "sys.path.append(os.getcwd())\n",
    "\n",
    "# Import evaluation function\n",
    "from probe.evaluate_probe import evaluate_all_probes_for_single_action_step\n",
    "\n",
    "print(\"🔍 Starting probe evaluation...\")\n",
    "print(\"=\" * 60)\n",
    "\n",
    "# Run evaluation with specified parameters\n",
    "evaluate_all_probes_for_single_action_step(\n",
    "    action_step=0\n",
    ")\n",
    "\n",
    "print(\"=\" * 60)\n",
    "print(\"🎉 Evaluation completed!\")"
   ]
  }
 ],
 "metadata": {
  "colab": {
   "provenance": []
  },
  "kernelspec": {
   "display_name": "Python 3",
   "language": "python",
   "name": "python3"
  },
  "language_info": {
   "codemirror_mode": {
    "name": "ipython",
    "version": 3
   },
   "file_extension": ".py",
   "mimetype": "text/x-python",
   "name": "python",
   "nbconvert_exporter": "python",
   "pygments_lexer": "ipython3",
   "version": "3.8.5"
  }
 },
 "nbformat": 4,
 "nbformat_minor": 0
}
